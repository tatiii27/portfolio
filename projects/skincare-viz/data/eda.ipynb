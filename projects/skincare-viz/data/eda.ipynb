{
 "cells": [
  {
   "cell_type": "code",
   "execution_count": 2,
   "id": "c9adc995",
   "metadata": {},
   "outputs": [],
   "source": [
    "import pandas as pd\n",
    "import numpy as np\n",
    "import json\n",
    "import os\n",
    "import re\n"
   ]
  },
  {
   "cell_type": "code",
   "execution_count": 4,
   "id": "4f7849d6",
   "metadata": {},
   "outputs": [],
   "source": [
    "pd.set_option('display.max_colwidth', 200)"
   ]
  },
  {
   "cell_type": "code",
   "execution_count": 12,
   "id": "e8273ee9",
   "metadata": {},
   "outputs": [
    {
     "data": {
      "text/html": [
       "<div>\n",
       "<style scoped>\n",
       "    .dataframe tbody tr th:only-of-type {\n",
       "        vertical-align: middle;\n",
       "    }\n",
       "\n",
       "    .dataframe tbody tr th {\n",
       "        vertical-align: top;\n",
       "    }\n",
       "\n",
       "    .dataframe thead th {\n",
       "        text-align: right;\n",
       "    }\n",
       "</style>\n",
       "<table border=\"1\" class=\"dataframe\">\n",
       "  <thead>\n",
       "    <tr style=\"text-align: right;\">\n",
       "      <th></th>\n",
       "      <th>Label</th>\n",
       "      <th>brand</th>\n",
       "      <th>name</th>\n",
       "      <th>price</th>\n",
       "      <th>rank</th>\n",
       "      <th>ingredients</th>\n",
       "      <th>Combination</th>\n",
       "      <th>Dry</th>\n",
       "      <th>Normal</th>\n",
       "      <th>Oily</th>\n",
       "      <th>Sensitive</th>\n",
       "    </tr>\n",
       "  </thead>\n",
       "  <tbody>\n",
       "    <tr>\n",
       "      <th>0</th>\n",
       "      <td>Moisturizer</td>\n",
       "      <td>LA MER</td>\n",
       "      <td>Crème de la Mer</td>\n",
       "      <td>175</td>\n",
       "      <td>4.1</td>\n",
       "      <td>Algae (Seaweed) Extract, Mineral Oil, Petrolatum, Glycerin, Isohexadecane, Microcrystalline Wax, Lanolin Alcohol, Citrus Aurantifolia (Lime) Extract, Sesamum Indicum (Sesame) Seed Oil, Eucalyptus ...</td>\n",
       "      <td>1</td>\n",
       "      <td>1</td>\n",
       "      <td>1</td>\n",
       "      <td>1</td>\n",
       "      <td>1</td>\n",
       "    </tr>\n",
       "    <tr>\n",
       "      <th>1</th>\n",
       "      <td>Moisturizer</td>\n",
       "      <td>SK-II</td>\n",
       "      <td>Facial Treatment Essence</td>\n",
       "      <td>179</td>\n",
       "      <td>4.1</td>\n",
       "      <td>Galactomyces Ferment Filtrate (Pitera), Butylene Glycol, Pentylene Glycol, Water, Sodium Benzoate, Methylparaben, Sorbic Acid.</td>\n",
       "      <td>1</td>\n",
       "      <td>1</td>\n",
       "      <td>1</td>\n",
       "      <td>1</td>\n",
       "      <td>1</td>\n",
       "    </tr>\n",
       "    <tr>\n",
       "      <th>2</th>\n",
       "      <td>Moisturizer</td>\n",
       "      <td>DRUNK ELEPHANT</td>\n",
       "      <td>Protini™ Polypeptide Cream</td>\n",
       "      <td>68</td>\n",
       "      <td>4.4</td>\n",
       "      <td>Water, Dicaprylyl Carbonate, Glycerin, Cetearyl Alcohol, Cetearyl Olivate, Sorbitan Olivate, Sclerocarya Birrea Seed Oil, Bacillus/Soybean/ Folic Acid Ferment Extract, Nymphaea Alba Root Extract, ...</td>\n",
       "      <td>1</td>\n",
       "      <td>1</td>\n",
       "      <td>1</td>\n",
       "      <td>1</td>\n",
       "      <td>0</td>\n",
       "    </tr>\n",
       "  </tbody>\n",
       "</table>\n",
       "</div>"
      ],
      "text/plain": [
       "         Label           brand                        name  price  rank  \\\n",
       "0  Moisturizer          LA MER             Crème de la Mer    175   4.1   \n",
       "1  Moisturizer           SK-II    Facial Treatment Essence    179   4.1   \n",
       "2  Moisturizer  DRUNK ELEPHANT  Protini™ Polypeptide Cream     68   4.4   \n",
       "\n",
       "                                                                                                                                                                                               ingredients  \\\n",
       "0  Algae (Seaweed) Extract, Mineral Oil, Petrolatum, Glycerin, Isohexadecane, Microcrystalline Wax, Lanolin Alcohol, Citrus Aurantifolia (Lime) Extract, Sesamum Indicum (Sesame) Seed Oil, Eucalyptus ...   \n",
       "1                                                                           Galactomyces Ferment Filtrate (Pitera), Butylene Glycol, Pentylene Glycol, Water, Sodium Benzoate, Methylparaben, Sorbic Acid.   \n",
       "2  Water, Dicaprylyl Carbonate, Glycerin, Cetearyl Alcohol, Cetearyl Olivate, Sorbitan Olivate, Sclerocarya Birrea Seed Oil, Bacillus/Soybean/ Folic Acid Ferment Extract, Nymphaea Alba Root Extract, ...   \n",
       "\n",
       "   Combination  Dry  Normal  Oily  Sensitive  \n",
       "0            1    1       1     1          1  \n",
       "1            1    1       1     1          1  \n",
       "2            1    1       1     1          0  "
      ]
     },
     "execution_count": 12,
     "metadata": {},
     "output_type": "execute_result"
    }
   ],
   "source": [
    "PATH = 'cosmetic_p.csv'\n",
    "df = pd.read_csv(PATH, low_memory=False)\n",
    "df.head(3)"
   ]
  },
  {
   "cell_type": "code",
   "execution_count": 7,
   "id": "7f344faf",
   "metadata": {},
   "outputs": [
    {
     "data": {
      "text/plain": [
       "brand\n",
       "CLINIQUE              79\n",
       "SEPHORA COLLECTION    66\n",
       "SHISEIDO              63\n",
       "ORIGINS               54\n",
       "MURAD                 47\n",
       "                      ..\n",
       "SON & PARK             1\n",
       "MAKEUP ERASER          1\n",
       "KAT VON D              1\n",
       "NURSE JAMIE            1\n",
       "DERMAFLASH             1\n",
       "Name: count, Length: 116, dtype: int64"
      ]
     },
     "execution_count": 7,
     "metadata": {},
     "output_type": "execute_result"
    }
   ],
   "source": [
    "df['brand'].value_counts()"
   ]
  },
  {
   "cell_type": "code",
   "execution_count": 36,
   "id": "33b538a0",
   "metadata": {},
   "outputs": [
    {
     "data": {
      "text/plain": [
       "['LA MER',\n",
       " 'SK-II',\n",
       " 'CLINIQUE',\n",
       " 'ESTÉE LAUDER',\n",
       " 'FRESH',\n",
       " 'MURAD',\n",
       " 'KATE SOMERVILLE',\n",
       " 'PHILOSOPHY',\n",
       " 'PETER THOMAS ROTH',\n",
       " 'GLAMGLOW',\n",
       " 'FOREO',\n",
       " 'ALGENIST',\n",
       " 'EVE LOM',\n",
       " 'DRUNK ELEPHANT',\n",
       " 'BEAUTYBIO',\n",
       " 'SHISEIDO',\n",
       " 'SEPHORA COLLECTION',\n",
       " 'MOROCCANOIL',\n",
       " 'DERMAFLASH']"
      ]
     },
     "execution_count": 36,
     "metadata": {},
     "output_type": "execute_result"
    }
   ],
   "source": [
    "names_with_z=df[df['rank'] == 0]['brand']\n",
    "list_names = names_with_z.tolist()\n",
    "list_names"
   ]
  },
  {
   "cell_type": "code",
   "execution_count": 9,
   "id": "62f5aa5b",
   "metadata": {},
   "outputs": [
    {
     "data": {
      "text/plain": [
       "116"
      ]
     },
     "execution_count": 9,
     "metadata": {},
     "output_type": "execute_result"
    }
   ],
   "source": [
    "df['brand'].nunique()"
   ]
  },
  {
   "cell_type": "code",
   "execution_count": 11,
   "id": "65ff5ed6",
   "metadata": {},
   "outputs": [
    {
     "data": {
      "text/plain": [
       "['Label',\n",
       " 'brand',\n",
       " 'name',\n",
       " 'price',\n",
       " 'rank',\n",
       " 'ingredients',\n",
       " 'Combination',\n",
       " 'Dry',\n",
       " 'Normal',\n",
       " 'Oily',\n",
       " 'Sensitive']"
      ]
     },
     "execution_count": 11,
     "metadata": {},
     "output_type": "execute_result"
    }
   ],
   "source": [
    "# print out column names\n",
    "df.columns.tolist()"
   ]
  },
  {
   "cell_type": "code",
   "execution_count": 18,
   "id": "270aae5b",
   "metadata": {},
   "outputs": [
    {
     "name": "stdout",
     "output_type": "stream",
     "text": [
      "Label           object\n",
      "brand           object\n",
      "name            object\n",
      "price            int64\n",
      "rank           float64\n",
      "ingredients     object\n",
      "Combination      int64\n",
      "Dry              int64\n",
      "Normal           int64\n",
      "Oily             int64\n",
      "Sensitive        int64\n",
      "dtype: object\n"
     ]
    }
   ],
   "source": [
    "print(df.dtypes)"
   ]
  },
  {
   "cell_type": "code",
   "execution_count": 14,
   "id": "272c587a",
   "metadata": {},
   "outputs": [
    {
     "data": {
      "text/plain": [
       "Label          0\n",
       "brand          0\n",
       "name           0\n",
       "price          0\n",
       "rank           0\n",
       "ingredients    0\n",
       "Combination    0\n",
       "Dry            0\n",
       "Normal         0\n",
       "Oily           0\n",
       "Sensitive      0\n",
       "dtype: int64"
      ]
     },
     "execution_count": 14,
     "metadata": {},
     "output_type": "execute_result"
    }
   ],
   "source": [
    "df.isna().sum().sort_values(ascending=False)"
   ]
  },
  {
   "cell_type": "code",
   "execution_count": 28,
   "id": "b6c2c049",
   "metadata": {},
   "outputs": [
    {
     "name": "stdout",
     "output_type": "stream",
     "text": [
      "['Moisturizer' 'Cleanser' 'Treatment' 'Face Mask' 'Eye cream'\n",
      " 'Sun protect']\n",
      "6\n"
     ]
    }
   ],
   "source": [
    "labels = df['Label'].unique()\n",
    "num_labels = df['Label'].nunique()\n",
    "print(labels)\n",
    "print(num_labels)"
   ]
  },
  {
   "cell_type": "markdown",
   "id": "2fba3b9c",
   "metadata": {},
   "source": [
    "# EDA Notes\n",
    "----\n",
    "**1. Column Names (11)**\n",
    "- Label **(obj)** \n",
    "- brand **(obj)**  \n",
    "- name(of product) **(obj)** \n",
    "- price **(int)**\n",
    "- rank (rating 0 to 5) **(float)**\n",
    "- ingredients **(obj)** \n",
    "\n",
    " *(rest are types of skin):*\n",
    "\n",
    "- combination **(int)**\n",
    "- dry **(int)**\n",
    "- normal **(int)**\n",
    "- oily **(int)**\n",
    "- sensitive **(int)**\n",
    "\n",
    "**2. Number of Brands**\n",
    "* 116 different Brands\n",
    "\n",
    "**3. NA's in Dataset**\n",
    "* **NO NA's** \n",
    "----\n",
    "## Consider 0 & 1 Scale for Types of :\n",
    "## **Whether or not the product is recommended for type fo skin**\n",
    "## **0**: **Not** recommended\n",
    "## **1**: **recommended**\n",
    "----\n",
    "\n",
    "**4. Types of Skin: Outcome (0 or 1)**\n",
    "\n",
    "* **combination**\n",
    "* **dry**\n",
    "* **normal**\n",
    "* **oily**\n",
    "* **sensitive**\n",
    "\n",
    "**5. Label: (Type of Product)---- (6)**\n",
    "* Moisturizer\n",
    "* Cleanser\n",
    "* Treatment\n",
    "* Face Mask\n",
    "* Eye Cream\n",
    "* Sun Protect\n",
    "\n",
    "\n",
    "\n"
   ]
  },
  {
   "cell_type": "code",
   "execution_count": null,
   "id": "ba7782fe",
   "metadata": {},
   "outputs": [],
   "source": [
    "# isolate skin columns \n",
    "skin_cols = ['Combination', 'Dry', 'Normal', 'Oily', 'Sensitive']\n"
   ]
  },
  {
   "cell_type": "code",
   "execution_count": null,
   "id": "ff5efaae",
   "metadata": {
    "vscode": {
     "languageId": "ruby"
    }
   },
   "outputs": [],
   "source": [
    "# separate into diff skin columns and get products for each skin and their ranks\n",
    "\n",
    "\n",
    "# get products for each skin type\n",
    "\n",
    "def products_for_skin(skin_cols, top=None, rank_ascending=False):\n",
    "    output_cols = df[df[skin_cols] == 1][['brand', 'name', 'rank']].copy()\n"
   ]
  },
  {
   "cell_type": "code",
   "execution_count": 37,
   "id": "3cfd3985",
   "metadata": {
    "vscode": {
     "languageId": "javascript"
    }
   },
   "outputs": [],
   "source": [
    "products_by_skin = (df.melt(\n",
    "    id_vars = ['Label', 'brand', 'name', 'price', 'rank'],\n",
    "    value_vars = skin_cols,\n",
    "    var_name = 'skin_type',\n",
    "    value_name = 'flag'\n",
    "\n",
    ")\n",
    "    .query('flag == 1')\n",
    "    .assign(skin_type = lambda x: x['skin_type'].str.lower())\n",
    "    .sort_values(['skin_type', 'rank'], ascending = [True, True])\n",
    "    .reset_index(drop=True)\n",
    ")\n",
    "products_by_skin = products_by_skin.query(\"rank > 0\")\n",
    "\n",
    "products_by_skin.to_csv('products_by_skin_type.csv', index=False)"
   ]
  },
  {
   "cell_type": "code",
   "execution_count": 45,
   "id": "8bb4c841",
   "metadata": {},
   "outputs": [
    {
     "data": {
      "text/plain": [
       "5.0"
      ]
     },
     "execution_count": 45,
     "metadata": {},
     "output_type": "execute_result"
    }
   ],
   "source": [
    "df2 = pd.read_csv('products_by_skin_type.csv')\n",
    "df2['skin_type'].value_counts()\n",
    "df2['rank'].max()"
   ]
  },
  {
   "cell_type": "code",
   "execution_count": null,
   "id": "5e84f49f",
   "metadata": {
    "vscode": {
     "languageId": "javascript"
    }
   },
   "outputs": [],
   "source": []
  },
  {
   "cell_type": "markdown",
   "id": "17406317",
   "metadata": {},
   "source": []
  },
  {
   "cell_type": "markdown",
   "id": "5d18c7da",
   "metadata": {},
   "source": [
    "products_by_skin['skin_type'].value_counts()"
   ]
  },
  {
   "cell_type": "code",
   "execution_count": 38,
   "id": "c6f6b258",
   "metadata": {
    "vscode": {
     "languageId": "javascript"
    }
   },
   "outputs": [
    {
     "data": {
      "text/plain": [
       "skin_type\n",
       "combination    957\n",
       "normal         952\n",
       "dry            895\n",
       "oily           886\n",
       "sensitive      750\n",
       "Name: count, dtype: int64"
      ]
     },
     "execution_count": 38,
     "metadata": {},
     "output_type": "execute_result"
    }
   ],
   "source": [
    "products_by_skin['skin_type'].value_counts()"
   ]
  },
  {
   "cell_type": "markdown",
   "id": "045fcab0",
   "metadata": {},
   "source": []
  },
  {
   "cell_type": "code",
   "execution_count": 22,
   "id": "b2b1554b",
   "metadata": {
    "vscode": {
     "languageId": "javascript"
    }
   },
   "outputs": [
    {
     "data": {
      "text/plain": [
       "count    4480.000000\n",
       "mean        4.168594\n",
       "std         0.580111\n",
       "min         0.000000\n",
       "25%         4.000000\n",
       "50%         4.300000\n",
       "75%         4.500000\n",
       "max         5.000000\n",
       "Name: rank, dtype: float64"
      ]
     },
     "execution_count": 22,
     "metadata": {},
     "output_type": "execute_result"
    }
   ],
   "source": [
    "products_by_skin['rank'].describe()"
   ]
  },
  {
   "cell_type": "code",
   "execution_count": 23,
   "id": "38ff9ee8",
   "metadata": {
    "vscode": {
     "languageId": "javascript"
    }
   },
   "outputs": [
    {
     "data": {
      "text/plain": [
       "count    4480.000000\n",
       "mean       56.575893\n",
       "std        45.803852\n",
       "min         3.000000\n",
       "25%        30.000000\n",
       "50%        44.000000\n",
       "75%        68.000000\n",
       "max       345.000000\n",
       "Name: price, dtype: float64"
      ]
     },
     "execution_count": 23,
     "metadata": {},
     "output_type": "execute_result"
    }
   ],
   "source": [
    "products_by_skin['price'].describe()"
   ]
  },
  {
   "cell_type": "code",
   "execution_count": 24,
   "id": "e4a79e8d",
   "metadata": {
    "vscode": {
     "languageId": "javascript"
    }
   },
   "outputs": [
    {
     "data": {
      "text/plain": [
       "skin_type    brand             \n",
       "combination  DR. JART+             38\n",
       "sensitive    DR. JART+             38\n",
       "normal       DR. JART+             38\n",
       "dry          DR. JART+             37\n",
       "combination  KIEHL'S SINCE 1851    37\n",
       "normal       KIEHL'S SINCE 1851    37\n",
       "oily         KIEHL'S SINCE 1851    37\n",
       "normal       ORIGINS               36\n",
       "dry          KIEHL'S SINCE 1851    35\n",
       "oily         ORIGINS               34\n",
       "combination  CLINIQUE              33\n",
       "             ORIGINS               33\n",
       "oily         DR. JART+             33\n",
       "sensitive    KIEHL'S SINCE 1851    33\n",
       "normal       SHISEIDO              31\n",
       "dry          ORIGINS               31\n",
       "             SHISEIDO              31\n",
       "normal       PETER THOMAS ROTH     30\n",
       "combination  PETER THOMAS ROTH     30\n",
       "oily         PETER THOMAS ROTH     30\n",
       "             CLINIQUE              30\n",
       "sensitive    CAUDALIE              30\n",
       "dry          PETER THOMAS ROTH     28\n",
       "sensitive    FIRST AID BEAUTY      28\n",
       "             PETER THOMAS ROTH     24\n",
       "dtype: int64"
      ]
     },
     "execution_count": 24,
     "metadata": {},
     "output_type": "execute_result"
    }
   ],
   "source": [
    "(products_by_skin.groupby(['skin_type', 'brand']).size().sort_values(ascending=False).groupby(level=0).head(5))"
   ]
  },
  {
   "cell_type": "code",
   "execution_count": 46,
   "id": "6a5a6ea8",
   "metadata": {},
   "outputs": [
    {
     "data": {
      "image/png": "[encoded data removed]",
      "text/plain": [
       "<Figure size 640x480 with 1 Axes>"
      ]
     },
     "metadata": {},
     "output_type": "display_data"
    }
   ],
   "source": [
    "import matplotlib.pyplot as plt\n",
    "df2['rank'].plot(kind='hist', bins=30,edgecolor='white')\n",
    "plt.title('rank distribution')\n",
    "plt.xlabel('rank')\n",
    "plt.show()"
   ]
  },
  {
   "cell_type": "markdown",
   "id": "082ce8bb",
   "metadata": {},
   "source": []
  },
  {
   "cell_type": "code",
   "execution_count": 47,
   "id": "de152b99",
   "metadata": {},
   "outputs": [
    {
     "data": {
      "text/html": [
       "<div>\n",
       "<style scoped>\n",
       "    .dataframe tbody tr th:only-of-type {\n",
       "        vertical-align: middle;\n",
       "    }\n",
       "\n",
       "    .dataframe tbody tr th {\n",
       "        vertical-align: top;\n",
       "    }\n",
       "\n",
       "    .dataframe thead th {\n",
       "        text-align: right;\n",
       "    }\n",
       "</style>\n",
       "<table border=\"1\" class=\"dataframe\">\n",
       "  <thead>\n",
       "    <tr style=\"text-align: right;\">\n",
       "      <th></th>\n",
       "      <th>Label</th>\n",
       "      <th>brand</th>\n",
       "      <th>name</th>\n",
       "      <th>price</th>\n",
       "      <th>rank</th>\n",
       "      <th>skin_type</th>\n",
       "      <th>flag</th>\n",
       "    </tr>\n",
       "  </thead>\n",
       "  <tbody>\n",
       "    <tr>\n",
       "      <th>0</th>\n",
       "      <td>Face Mask</td>\n",
       "      <td>FOREO</td>\n",
       "      <td>Shimmer Freak Mask</td>\n",
       "      <td>19</td>\n",
       "      <td>1.0</td>\n",
       "      <td>combination</td>\n",
       "      <td>1</td>\n",
       "    </tr>\n",
       "    <tr>\n",
       "      <th>1</th>\n",
       "      <td>Eye cream</td>\n",
       "      <td>BOSCIA</td>\n",
       "      <td>Sake Brightening Bio-Cellulose Eye Masks</td>\n",
       "      <td>15</td>\n",
       "      <td>1.8</td>\n",
       "      <td>combination</td>\n",
       "      <td>1</td>\n",
       "    </tr>\n",
       "    <tr>\n",
       "      <th>2</th>\n",
       "      <td>Face Mask</td>\n",
       "      <td>SEPHORA COLLECTION</td>\n",
       "      <td>SUPERMASK - The Golden Mask</td>\n",
       "      <td>6</td>\n",
       "      <td>2.6</td>\n",
       "      <td>combination</td>\n",
       "      <td>1</td>\n",
       "    </tr>\n",
       "    <tr>\n",
       "      <th>3</th>\n",
       "      <td>Face Mask</td>\n",
       "      <td>EVE LOM</td>\n",
       "      <td>WHITE Brightening Mask</td>\n",
       "      <td>160</td>\n",
       "      <td>2.7</td>\n",
       "      <td>combination</td>\n",
       "      <td>1</td>\n",
       "    </tr>\n",
       "    <tr>\n",
       "      <th>4</th>\n",
       "      <td>Face Mask</td>\n",
       "      <td>SKIN LAUNDRY</td>\n",
       "      <td>Wrinkle Release Neck &amp; Chest Sheet Mask</td>\n",
       "      <td>60</td>\n",
       "      <td>2.7</td>\n",
       "      <td>combination</td>\n",
       "      <td>1</td>\n",
       "    </tr>\n",
       "  </tbody>\n",
       "</table>\n",
       "</div>"
      ],
      "text/plain": [
       "       Label               brand                                      name  \\\n",
       "0  Face Mask               FOREO                        Shimmer Freak Mask   \n",
       "1  Eye cream              BOSCIA  Sake Brightening Bio-Cellulose Eye Masks   \n",
       "2  Face Mask  SEPHORA COLLECTION               SUPERMASK - The Golden Mask   \n",
       "3  Face Mask             EVE LOM                    WHITE Brightening Mask   \n",
       "4  Face Mask        SKIN LAUNDRY   Wrinkle Release Neck & Chest Sheet Mask   \n",
       "\n",
       "   price  rank    skin_type  flag  \n",
       "0     19   1.0  combination     1  \n",
       "1     15   1.8  combination     1  \n",
       "2      6   2.6  combination     1  \n",
       "3    160   2.7  combination     1  \n",
       "4     60   2.7  combination     1  "
      ]
     },
     "execution_count": 47,
     "metadata": {},
     "output_type": "execute_result"
    }
   ],
   "source": [
    "df2 = pd.read_csv('products_by_skin_type.csv')\n",
    "df2.head(5)"
   ]
  },
  {
   "cell_type": "code",
   "execution_count": 39,
   "id": "9a843786",
   "metadata": {},
   "outputs": [
    {
     "data": {
      "text/plain": [
       "array([0. , 1. , 1.8, 2.6, 2.7, 2.8, 2.9, 3. , 3.1, 3.2, 3.3, 3.4, 3.5,\n",
       "       3.6, 3.7, 3.8, 3.9, 4. , 4.1, 4.2, 4.3, 4.4, 4.5, 4.6, 4.7, 4.8,\n",
       "       4.9, 5. ])"
      ]
     },
     "execution_count": 39,
     "metadata": {},
     "output_type": "execute_result"
    }
   ],
   "source": [
    "df2['rank'].unique()"
   ]
  },
  {
   "cell_type": "code",
   "execution_count": null,
   "id": "c059ba0d",
   "metadata": {},
   "outputs": [],
   "source": []
  }
 ],
 "metadata": {
  "kernelspec": {
   "display_name": "Python (glove_env)",
   "language": "python",
   "name": "glove_env"
  },
  "language_info": {
   "codemirror_mode": {
    "name": "ipython",
    "version": 3
   },
   "file_extension": ".py",
   "mimetype": "text/x-python",
   "name": "python",
   "nbconvert_exporter": "python",
   "pygments_lexer": "ipython3",
   "version": "3.10.18"
  }
 },
 "nbformat": 4,
 "nbformat_minor": 5
}
